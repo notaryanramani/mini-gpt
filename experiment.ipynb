{
 "cells": [
  {
   "cell_type": "code",
   "execution_count": null,
   "id": "7935228e-9396-4f34-b5b6-6827ce78974a",
   "metadata": {},
   "outputs": [],
   "source": [
    "!pip install pyarrow"
   ]
  },
  {
   "cell_type": "code",
   "execution_count": 1,
   "id": "486038af-0458-476b-b9f0-c87796d6e9b3",
   "metadata": {},
   "outputs": [
    {
     "name": "stderr",
     "output_type": "stream",
     "text": [
      "C:\\Users\\aryan\\AppData\\Local\\Temp\\ipykernel_20300\\3730751328.py:3: DeprecationWarning: \n",
      "Pyarrow will become a required dependency of pandas in the next major release of pandas (pandas 3.0),\n",
      "(to allow more performant data types, such as the Arrow string type, and better interoperability with other libraries)\n",
      "but was not found to be installed on your system.\n",
      "If this would cause problems for you,\n",
      "please provide us feedback at https://github.com/pandas-dev/pandas/issues/54466\n",
      "        \n",
      "  import pandas as pd\n"
     ]
    }
   ],
   "source": [
    "from ClassifierTransformer import Classifier\n",
    "import torch\n",
    "import pandas as pd\n",
    "import numpy as np\n",
    "import tiktoken\n",
    "import time"
   ]
  },
  {
   "cell_type": "code",
   "execution_count": 2,
   "id": "e73856c7-3558-460b-9952-60a6ae9e3766",
   "metadata": {},
   "outputs": [],
   "source": [
    "tokenizer = tiktoken.get_encoding('r50k_base')"
   ]
  },
  {
   "cell_type": "code",
   "execution_count": 3,
   "id": "4bbf87ca-aea4-4cff-88c5-fb4282d05484",
   "metadata": {},
   "outputs": [],
   "source": [
    "#  hyperparameters\n",
    "\n",
    "vocab_size = tokenizer.n_vocab\n",
    "block_size = 32\n",
    "learning_rate = 1e-3\n",
    "steps = 10000\n",
    "eval_step = steps // 10\n",
    "\n",
    "\n",
    "device = 'cuda' if torch.cuda.is_available() else 'cpu'"
   ]
  },
  {
   "cell_type": "code",
   "execution_count": 4,
   "id": "23506021-267a-4d86-88a9-57694b107bc4",
   "metadata": {},
   "outputs": [
    {
     "data": {
      "text/html": [
       "<div>\n",
       "<style scoped>\n",
       "    .dataframe tbody tr th:only-of-type {\n",
       "        vertical-align: middle;\n",
       "    }\n",
       "\n",
       "    .dataframe tbody tr th {\n",
       "        vertical-align: top;\n",
       "    }\n",
       "\n",
       "    .dataframe thead th {\n",
       "        text-align: right;\n",
       "    }\n",
       "</style>\n",
       "<table border=\"1\" class=\"dataframe\">\n",
       "  <thead>\n",
       "    <tr style=\"text-align: right;\">\n",
       "      <th></th>\n",
       "      <th>textID</th>\n",
       "      <th>text</th>\n",
       "      <th>selected_text</th>\n",
       "      <th>sentiment</th>\n",
       "    </tr>\n",
       "  </thead>\n",
       "  <tbody>\n",
       "    <tr>\n",
       "      <th>0</th>\n",
       "      <td>cb774db0d1</td>\n",
       "      <td>I`d have responded, if I were going</td>\n",
       "      <td>I`d have responded, if I were going</td>\n",
       "      <td>neutral</td>\n",
       "    </tr>\n",
       "    <tr>\n",
       "      <th>1</th>\n",
       "      <td>549e992a42</td>\n",
       "      <td>Sooo SAD I will miss you here in San Diego!!!</td>\n",
       "      <td>Sooo SAD</td>\n",
       "      <td>negative</td>\n",
       "    </tr>\n",
       "    <tr>\n",
       "      <th>2</th>\n",
       "      <td>088c60f138</td>\n",
       "      <td>my boss is bullying me...</td>\n",
       "      <td>bullying me</td>\n",
       "      <td>negative</td>\n",
       "    </tr>\n",
       "    <tr>\n",
       "      <th>3</th>\n",
       "      <td>9642c003ef</td>\n",
       "      <td>what interview! leave me alone</td>\n",
       "      <td>leave me alone</td>\n",
       "      <td>negative</td>\n",
       "    </tr>\n",
       "    <tr>\n",
       "      <th>4</th>\n",
       "      <td>358bd9e861</td>\n",
       "      <td>Sons of ****, why couldn`t they put them on t...</td>\n",
       "      <td>Sons of ****,</td>\n",
       "      <td>negative</td>\n",
       "    </tr>\n",
       "  </tbody>\n",
       "</table>\n",
       "</div>"
      ],
      "text/plain": [
       "       textID                                               text  \\\n",
       "0  cb774db0d1                I`d have responded, if I were going   \n",
       "1  549e992a42      Sooo SAD I will miss you here in San Diego!!!   \n",
       "2  088c60f138                          my boss is bullying me...   \n",
       "3  9642c003ef                     what interview! leave me alone   \n",
       "4  358bd9e861   Sons of ****, why couldn`t they put them on t...   \n",
       "\n",
       "                         selected_text sentiment  \n",
       "0  I`d have responded, if I were going   neutral  \n",
       "1                             Sooo SAD  negative  \n",
       "2                          bullying me  negative  \n",
       "3                       leave me alone  negative  \n",
       "4                        Sons of ****,  negative  "
      ]
     },
     "execution_count": 4,
     "metadata": {},
     "output_type": "execute_result"
    }
   ],
   "source": [
    "df = pd.read_csv('data.csv')\n",
    "df.head()"
   ]
  },
  {
   "cell_type": "code",
   "execution_count": 5,
   "id": "a7c90194-eeed-4af9-a0f4-a3969fe909a2",
   "metadata": {},
   "outputs": [],
   "source": [
    "x = df['text'].copy()\n",
    "y = df.sentiment.copy()"
   ]
  },
  {
   "cell_type": "code",
   "execution_count": 6,
   "id": "5e73c143-979f-4d1f-97f8-be34a907ef3c",
   "metadata": {},
   "outputs": [],
   "source": [
    "tokens = []\n",
    "for x_ in x:\n",
    "    tokens.append(tokenizer.encode(x_))"
   ]
  },
  {
   "cell_type": "code",
   "execution_count": 7,
   "id": "b78fd890-19df-4e50-bd42-da3d3e601a11",
   "metadata": {},
   "outputs": [],
   "source": [
    "target_map = {\n",
    "    'negative' : 0,\n",
    "    'neutral'  : 1,\n",
    "    'positive' : 2\n",
    "}"
   ]
  },
  {
   "cell_type": "code",
   "execution_count": 8,
   "id": "fe11b982-4ea9-47a8-9224-1fc7d79fe730",
   "metadata": {},
   "outputs": [],
   "source": [
    "y = y.map(target_map)"
   ]
  },
  {
   "cell_type": "code",
   "execution_count": 9,
   "id": "42075bd6-0078-481e-99a7-3ab67985b724",
   "metadata": {},
   "outputs": [],
   "source": [
    "n = int(len(tokens) * 0.9)\n",
    "\n",
    "train_x, train_y = tokens[:n], list(y[:n])\n",
    "val_x, val_y = tokens[n:], list(y[n:])"
   ]
  },
  {
   "cell_type": "code",
   "execution_count": 10,
   "id": "ece954ac-5be7-4b32-a61b-de4733eccaea",
   "metadata": {},
   "outputs": [
    {
     "data": {
      "text/plain": [
       "(2748, 2748)"
      ]
     },
     "execution_count": 10,
     "metadata": {},
     "output_type": "execute_result"
    }
   ],
   "source": [
    "len(val_x),  len(val_y)"
   ]
  },
  {
   "cell_type": "code",
   "execution_count": 11,
   "id": "4a90c94d-cb33-4fa8-8b26-fdbe1a0012fe",
   "metadata": {},
   "outputs": [],
   "source": [
    "def data_loader(split='train', block_size=32):\n",
    "    x_, y_ = (train_x, train_y) if split == 'train' else (val_x, val_y)\n",
    "    rand_nums = torch.randint(len(x_), (block_size,))\n",
    "\n",
    "    \n",
    "    \n",
    "    x_ = [x_[i.item()] for i in rand_nums]\n",
    "    y_ = [y_[i.item()] for i in rand_nums]\n",
    "\n",
    "    for i, s in enumerate(x_):\n",
    "        if len(s) < block_size:\n",
    "            temp = tokenizer.encode(' ' * (block_size - len(s))) + s\n",
    "            x_[i] = temp\n",
    "        else:\n",
    "            x_[i] = s[-block_size:]\n",
    "    \n",
    "    x_ = torch.tensor(x_).to(device)\n",
    "    y_ = torch.tensor(y_).to(device)\n",
    "\n",
    "    return x_, y_\n"
   ]
  },
  {
   "cell_type": "code",
   "execution_count": 12,
   "id": "fe0edf94-9efb-4d24-8f98-59199783e0ae",
   "metadata": {},
   "outputs": [],
   "source": [
    "@torch.no_grad\n",
    "def get_loss(m):\n",
    "    train_lossi = []\n",
    "    val_lossi = []\n",
    "    m.eval()\n",
    "    for _ in range(100):\n",
    "        # train\n",
    "        x, y = data_loader('train')\n",
    "        logits, loss = m(x, y)\n",
    "        train_lossi.append(loss)\n",
    "\n",
    "        # val\n",
    "        x, y = data_loader('val')\n",
    "        logits, loss = m(x, y)\n",
    "        val_lossi.append(loss)\n",
    "    train_loss = torch.tensor(train_lossi).mean()\n",
    "    val_loss = torch.tensor(val_lossi).mean()\n",
    "    m.train()\n",
    "    return train_loss, val_loss"
   ]
  },
  {
   "cell_type": "code",
   "execution_count": 13,
   "id": "07396a5f-4b25-4c3e-bdf6-c2d0dd7da63b",
   "metadata": {},
   "outputs": [],
   "source": [
    "c = Classifier(vocab_size, 3)\n",
    "c.to(device)\n",
    "optimizer =  torch.optim.AdamW(c.parameters(),  lr=learning_rate)"
   ]
  },
  {
   "cell_type": "code",
   "execution_count": 14,
   "id": "91f1670d-0993-47dd-8535-542a9051e5c0",
   "metadata": {},
   "outputs": [
    {
     "name": "stdout",
     "output_type": "stream",
     "text": [
      "Step 0:  Train Loss: 1.1178,  Val Loss: 1.1180\n",
      "Step 1000:  Train Loss: 1.0614,  Val Loss: 1.0542\n",
      "Step 2000:  Train Loss: 0.9004,  Val Loss: 0.9262\n",
      "Step 3000:  Train Loss: 0.7683,  Val Loss: 0.8762\n",
      "Step 4000:  Train Loss: 0.7364,  Val Loss: 0.8484\n",
      "Step 5000:  Train Loss: 0.6643,  Val Loss: 0.8309\n",
      "Step 6000:  Train Loss: 0.5914,  Val Loss: 0.8697\n",
      "Step 7000:  Train Loss: 0.5306,  Val Loss: 0.8788\n",
      "Step 8000:  Train Loss: 0.5077,  Val Loss: 0.8648\n",
      "Step 9000:  Train Loss: 0.4797,  Val Loss: 0.9062\n",
      "\n",
      "Time Elasped: 3.0 mins 53 secs\n"
     ]
    }
   ],
   "source": [
    "st = time.time()\n",
    "\n",
    "for step in range(steps):\n",
    "    x, y = data_loader('train')\n",
    "    logits, loss = c(x, y)\n",
    "    optimizer.zero_grad(set_to_none=True)\n",
    "    loss.backward()\n",
    "    optimizer.step()\n",
    "    if step % eval_step == 0:\n",
    "      train_loss, val_loss = get_loss(c)\n",
    "      print(f'Step {step}:  Train Loss: {train_loss.item():.4f},  Val Loss: {val_loss.item():.4f}')\n",
    "et = time.time()\n",
    "\n",
    "mins = (et - st)   //  60\n",
    "secs = int((et - st) % 60)\n",
    "\n",
    "print()\n",
    "print(f'Time Elasped: {mins} mins {secs} secs')"
   ]
  },
  {
   "cell_type": "code",
   "execution_count": 23,
   "id": "9bc4b71d-d1e4-4d3a-83db-3633e1e5f68d",
   "metadata": {},
   "outputs": [],
   "source": [
    "idx = tokenizer.encode('It is amazing, what a fabulous day')\n",
    "idx = tokenizer.encode(' ' * (block_size - len(idx))) + idx\n",
    "idx = torch.tensor(idx).to(device).view(1, -1)"
   ]
  },
  {
   "cell_type": "code",
   "execution_count": 24,
   "id": "7f0c9371-22bb-4160-a18d-e90e6997f4cd",
   "metadata": {},
   "outputs": [
    {
     "data": {
      "text/plain": [
       "torch.Size([1, 32])"
      ]
     },
     "execution_count": 24,
     "metadata": {},
     "output_type": "execute_result"
    }
   ],
   "source": [
    "idx.shape"
   ]
  },
  {
   "cell_type": "code",
   "execution_count": 25,
   "id": "ccb92b26-a19f-4537-84cd-baf0de1e41f1",
   "metadata": {},
   "outputs": [
    {
     "data": {
      "text/plain": [
       "tensor([[0.0081, 0.0346, 0.9574]], device='cuda:0')"
      ]
     },
     "execution_count": 25,
     "metadata": {},
     "output_type": "execute_result"
    }
   ],
   "source": [
    "with torch.no_grad():\n",
    "    op = torch.nn.functional.softmax(c.predict(idx), dim=1)\n",
    "op"
   ]
  },
  {
   "cell_type": "code",
   "execution_count": 26,
   "id": "3e570232-98dd-48f7-89d8-ff64c0d39363",
   "metadata": {},
   "outputs": [
    {
     "data": {
      "text/plain": [
       "tensor(2, device='cuda:0')"
      ]
     },
     "execution_count": 26,
     "metadata": {},
     "output_type": "execute_result"
    }
   ],
   "source": [
    "torch.argmax(op[0])"
   ]
  },
  {
   "cell_type": "code",
   "execution_count": null,
   "id": "85e75e45-d6ae-4c7d-8644-7e360c69f556",
   "metadata": {},
   "outputs": [],
   "source": []
  }
 ],
 "metadata": {
  "kernelspec": {
   "display_name": "Python 3 (ipykernel)",
   "language": "python",
   "name": "python3"
  },
  "language_info": {
   "codemirror_mode": {
    "name": "ipython",
    "version": 3
   },
   "file_extension": ".py",
   "mimetype": "text/x-python",
   "name": "python",
   "nbconvert_exporter": "python",
   "pygments_lexer": "ipython3",
   "version": "3.11.7"
  }
 },
 "nbformat": 4,
 "nbformat_minor": 5
}
